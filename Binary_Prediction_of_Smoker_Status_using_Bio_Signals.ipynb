{
  "nbformat": 4,
  "nbformat_minor": 0,
  "metadata": {
    "colab": {
      "provenance": [],
      "include_colab_link": true
    },
    "kernelspec": {
      "name": "python3",
      "display_name": "Python 3"
    },
    "language_info": {
      "name": "python"
    }
  },
  "cells": [
    {
      "cell_type": "markdown",
      "metadata": {
        "id": "view-in-github",
        "colab_type": "text"
      },
      "source": [
        "<a href=\"https://colab.research.google.com/github/saradhasarah12/BinaryPrediction-of-SmokerStatus-using-BioSignals__Kaggle/blob/main/Binary_Prediction_of_Smoker_Status_using_Bio_Signals.ipynb\" target=\"_parent\"><img src=\"https://colab.research.google.com/assets/colab-badge.svg\" alt=\"Open In Colab\"/></a>"
      ]
    },
    {
      "cell_type": "code",
      "execution_count": null,
      "metadata": {
        "colab": {
          "base_uri": "https://localhost:8080/"
        },
        "id": "i1Dl1ZigjQOj",
        "outputId": "573e2bfc-4495-434c-9c58-6f92fd98cdb5"
      },
      "outputs": [
        {
          "output_type": "stream",
          "name": "stdout",
          "text": [
            "Collecting pyspark\n",
            "  Downloading pyspark-3.5.0.tar.gz (316.9 MB)\n",
            "\u001b[2K     \u001b[90m━━━━━━━━━━━━━━━━━━━━━━━━━━━━━━━━━━━━━━━━\u001b[0m \u001b[32m316.9/316.9 MB\u001b[0m \u001b[31m4.8 MB/s\u001b[0m eta \u001b[36m0:00:00\u001b[0m\n",
            "\u001b[?25h  Preparing metadata (setup.py) ... \u001b[?25l\u001b[?25hdone\n",
            "Requirement already satisfied: py4j==0.10.9.7 in /usr/local/lib/python3.10/dist-packages (from pyspark) (0.10.9.7)\n",
            "Building wheels for collected packages: pyspark\n",
            "  Building wheel for pyspark (setup.py) ... \u001b[?25l\u001b[?25hdone\n",
            "  Created wheel for pyspark: filename=pyspark-3.5.0-py2.py3-none-any.whl size=317425344 sha256=998146bd26e2ab927beac90d20c288dc7fa09387cd165c1be85237cd1c33e888\n",
            "  Stored in directory: /root/.cache/pip/wheels/41/4e/10/c2cf2467f71c678cfc8a6b9ac9241e5e44a01940da8fbb17fc\n",
            "Successfully built pyspark\n",
            "Installing collected packages: pyspark\n",
            "Successfully installed pyspark-3.5.0\n"
          ]
        }
      ],
      "source": [
        "!pip install pyspark"
      ]
    },
    {
      "cell_type": "code",
      "source": [
        "from pyspark.sql import SparkSession\n",
        "from pyspark.ml.classification import DecisionTreeClassifier,LogisticRegression\n",
        "from pyspark.ml.classification import RandomForestClassifier\n",
        "from pyspark.ml.tuning import CrossValidator,ParamGridBuilder\n",
        "from pyspark.ml import Pipeline\n",
        "from pyspark.ml.feature import StringIndexer,VectorAssembler,OneHotEncoder\n",
        "from pyspark.ml.evaluation import MulticlassClassificationEvaluator\n",
        "import pyspark.ml.tuning\n",
        "Spark=SparkSession.builder.appName(\"Smoker\").getOrCreate()"
      ],
      "metadata": {
        "id": "FOnNrzgHjTR6"
      },
      "execution_count": null,
      "outputs": []
    },
    {
      "cell_type": "code",
      "source": [
        "\n",
        "train_data = Spark.read.csv(\"/content/train.csv\", header=True, inferSchema=True)\n",
        "test_data = Spark.read.csv(\"/content/test.csv\", header=True, inferSchema=True).show()\n"
      ],
      "metadata": {
        "colab": {
          "base_uri": "https://localhost:8080/"
        },
        "id": "wrHrmcNZjlom",
        "outputId": "73ea78fe-3013-4241-d3c4-e3e89096388a"
      },
      "execution_count": null,
      "outputs": [
        {
          "output_type": "stream",
          "name": "stdout",
          "text": [
            "+------+---+----------+----------+---------+--------------+---------------+-------------+--------------+--------+----------+-------------------+-----------+------------+---+---+----------+-------------+----------------+---+---+---+-------------+\n",
            "|    id|age|height(cm)|weight(kg)|waist(cm)|eyesight(left)|eyesight(right)|hearing(left)|hearing(right)|systolic|relaxation|fasting blood sugar|Cholesterol|triglyceride|HDL|LDL|hemoglobin|Urine protein|serum creatinine|AST|ALT|Gtp|dental caries|\n",
            "+------+---+----------+----------+---------+--------------+---------------+-------------+--------------+--------+----------+-------------------+-----------+------------+---+---+----------+-------------+----------------+---+---+---+-------------+\n",
            "|159256| 40|       165|        70|     84.0|           1.2|            1.2|            1|             1|     130|        89|                107|        200|         186| 49|115|      14.2|            1|             0.9| 19| 25| 32|            0|\n",
            "|159257| 80|       160|        60|     93.0|           1.0|            1.0|            2|             2|     144|        72|                 93|        172|         158| 35|104|      13.0|            1|             1.1| 20| 12| 24|            0|\n",
            "|159258| 60|       170|        70|     86.5|           0.6|            0.7|            1|             1|     117|        75|                 92|        161|         173| 39| 88|      15.4|            1|             1.4| 38| 60| 36|            0|\n",
            "|159259| 40|       160|        50|     67.0|           0.3|            0.4|            1|             1|     116|        62|                 91|        213|          47| 75|128|      14.5|            1|             0.6| 25| 18| 10|            1|\n",
            "|159260| 40|       170|        75|     89.4|           1.0|            0.9|            1|             1|     132|        94|                 79|        170|         100| 39|123|      16.5|            1|             1.0| 30| 39| 27|            1|\n",
            "|159261| 40|       165|        55|     75.8|           1.0|            1.0|            1|             1|      94|        52|                104|        179|         146| 41|108|      15.1|            1|             1.0| 27| 15| 56|            1|\n",
            "|159262| 40|       165|        80|     87.0|           1.5|            1.5|            1|             1|     128|        72|                106|        225|          95| 46|160|      15.5|            1|             1.0| 24| 30| 25|            0|\n",
            "|159263| 55|       150|        50|     69.2|           1.0|            0.9|            1|             1|     152|        91|                120|        177|          89| 60| 98|      14.2|            1|             0.7| 26| 20| 36|            0|\n",
            "|159264| 70|       160|        60|     79.0|           0.5|            0.5|            1|             1|     150|        90|                 92|        193|         116| 57|113|      13.9|            1|             1.2| 19| 24| 18|            0|\n",
            "|159265| 70|       145|        55|     82.0|           1.0|            1.0|            1|             1|     144|        90|                105|        174|          72| 49|110|      14.5|            1|             1.0| 20| 15| 27|            0|\n",
            "|159266| 55|       160|        65|     94.0|           1.5|            1.2|            1|             1|     140|        90|                102|        178|         109| 38|117|      15.0|            1|             1.2| 19| 18| 55|            0|\n",
            "|159267| 40|       160|        50|     65.0|           0.5|            1.0|            1|             1|     131|        85|                 84|        195|          84| 67|111|      14.6|            1|             0.9| 34| 38| 20|            0|\n",
            "|159268| 45|       160|        55|     75.0|           1.5|            1.5|            1|             1|     104|        72|                 96|        204|          45| 63|131|      12.7|            2|             0.5| 20| 15| 13|            0|\n",
            "|159269| 60|       160|        65|     85.0|           0.3|            0.3|            1|             1|     126|        75|                101|        226|         148| 63|134|      14.5|            1|             0.9| 25| 19| 27|            0|\n",
            "|159270| 70|       145|        45|     67.0|           0.5|            0.3|            1|             1|     134|        64|                 82|        185|          61| 60|113|      12.4|            2|             0.7| 15|  8| 21|            0|\n",
            "|159271| 30|       175|        70|     85.8|           0.9|            0.7|            1|             1|     110|        70|                 92|        219|         143| 50|140|      16.6|            1|             1.2| 24| 45| 58|            0|\n",
            "|159272| 30|       175|        85|     93.0|           1.0|            1.2|            1|             1|     118|        60|                101|        176|         223| 67| 64|      15.6|            1|             0.9| 20| 18| 53|            0|\n",
            "|159273| 55|       175|        75|     89.0|           1.0|            1.2|            1|             1|     120|        73|                 95|        188|         197| 36|112|      15.9|            1|             1.2| 17| 21| 52|            1|\n",
            "|159274| 55|       160|        55|     76.0|           0.9|            0.8|            1|             1|     115|        61|                 93|        156|          82| 70| 70|      13.3|            1|             0.7| 20| 11| 12|            0|\n",
            "|159275| 25|       175|        70|     76.0|           1.2|            1.5|            1|             1|     132|        76|                 86|        178|          36| 75| 95|      15.2|            1|             0.8| 15| 10| 15|            1|\n",
            "+------+---+----------+----------+---------+--------------+---------------+-------------+--------------+--------+----------+-------------------+-----------+------------+---+---+----------+-------------+----------------+---+---+---+-------------+\n",
            "only showing top 20 rows\n",
            "\n"
          ]
        }
      ]
    },
    {
      "cell_type": "code",
      "source": [
        "from pyspark.ml.feature import StringIndexer, VectorAssembler\n",
        "indexer = StringIndexer(inputCol=\"smoking\", outputCol=\"label\").fit(train_data)\n",
        "# Assemble features into a single vector\n",
        "assembler = VectorAssembler(\n",
        "    inputCols=[col for col in train_data.columns if col != \"smoking\"],\n",
        "    outputCol=\"features\"\n",
        ")\n"
      ],
      "metadata": {
        "id": "3-ZPqmVTnmTV"
      },
      "execution_count": null,
      "outputs": []
    },
    {
      "cell_type": "code",
      "source": [
        "from pyspark.ml.classification import (LogisticRegression, RandomForestClassifier,\n",
        "                                       GBTClassifier, DecisionTreeClassifier, NaiveBayes)\n",
        "lr = LogisticRegression(featuresCol=\"features\", labelCol=\"label\")\n",
        "rf = RandomForestClassifier(featuresCol=\"features\", labelCol=\"label\")\n",
        "gbt = GBTClassifier(featuresCol=\"features\", labelCol=\"label\")\n",
        "dt = DecisionTreeClassifier(featuresCol=\"features\", labelCol=\"label\")\n",
        "nb = NaiveBayes(featuresCol=\"features\", labelCol=\"label\")\n"
      ],
      "metadata": {
        "id": "eaVglCIjp6fs"
      },
      "execution_count": null,
      "outputs": []
    },
    {
      "cell_type": "code",
      "source": [
        "from pyspark.ml import Pipeline\n",
        "pipeline = Pipeline(stages=[indexer, assembler, lr])\n",
        "traindata, testdata = train_data.randomSplit([0.8, 0.2], seed=42)"
      ],
      "metadata": {
        "id": "AyXNFvmxp_QA"
      },
      "execution_count": null,
      "outputs": []
    },
    {
      "cell_type": "code",
      "source": [
        "from pyspark.ml.evaluation import MulticlassClassificationEvaluator\n",
        "model = pipeline.fit(traindata)\n",
        "predictions = model.transform(testdata)\n",
        "evaluator = MulticlassClassificationEvaluator(labelCol=\"label\", predictionCol=\"prediction\", metricName=\"accuracy\")\n",
        "accuracy = evaluator.evaluate(predictions)\n",
        "print(f\"Accuracy of Logistic Regression: {accuracy*100:.2f}%\")\n"
      ],
      "metadata": {
        "id": "rUWJeJXHqBt2",
        "colab": {
          "base_uri": "https://localhost:8080/"
        },
        "outputId": "dd49c704-5a60-4df2-c761-dee2f140d677"
      },
      "execution_count": null,
      "outputs": [
        {
          "output_type": "stream",
          "name": "stdout",
          "text": [
            "Accuracy of Logistic Regression: 74.65%\n"
          ]
        }
      ]
    },
    {
      "cell_type": "code",
      "source": [
        "pipeline_rf = Pipeline(stages=[indexer, assembler, rf])\n",
        "model_rf = pipeline_rf.fit(traindata)\n",
        "predictions_rf = model_rf.transform(testdata)\n",
        "rf_accuracy = evaluator.evaluate(predictions_rf)\n",
        "print(f\"Accuracy of Random Forest: {rf_accuracy*100:.2f}%\")\n"
      ],
      "metadata": {
        "id": "GBogrm-nqHTE",
        "colab": {
          "base_uri": "https://localhost:8080/"
        },
        "outputId": "ea807d47-5c24-48cf-faab-aec6b0464b66"
      },
      "execution_count": null,
      "outputs": [
        {
          "output_type": "stream",
          "name": "stdout",
          "text": [
            "Accuracy of Random Forest: 74.89%\n"
          ]
        }
      ]
    },
    {
      "cell_type": "code",
      "source": [
        "pipeline_gbt = Pipeline(stages=[indexer, assembler, gbt])\n",
        "model_gbt = pipeline_gbt.fit(traindata)\n",
        "predictions_gbt = model_gbt.transform(testdata)\n",
        "gbt_accuracy = evaluator.evaluate(predictions_gbt)\n",
        "print(f\"Accuracy of GBT: {gbt_accuracy*100:.2f}%\")"
      ],
      "metadata": {
        "id": "KN-p2glzqcHU",
        "colab": {
          "base_uri": "https://localhost:8080/"
        },
        "outputId": "74b9db0a-74fc-4a7b-eb9e-deb50821667d"
      },
      "execution_count": null,
      "outputs": [
        {
          "output_type": "stream",
          "name": "stdout",
          "text": [
            "Accuracy of GBT: 77.02%\n"
          ]
        }
      ]
    },
    {
      "cell_type": "code",
      "source": [
        "pipeline_dt = Pipeline(stages=[indexer, assembler, dt])\n",
        "model_dt = pipeline_dt.fit(traindata)\n",
        "predictions_dt = model_dt.transform(testdata)\n",
        "dt_accuracy = evaluator.evaluate(predictions_dt)\n",
        "print(f\"Accuracy of Decision Tree: {dt_accuracy*100:.2f}%\")\n"
      ],
      "metadata": {
        "id": "0-ehvIn0rpaf",
        "colab": {
          "base_uri": "https://localhost:8080/"
        },
        "outputId": "81399267-feb5-4adc-eca2-1fa4ecd2d66e"
      },
      "execution_count": null,
      "outputs": [
        {
          "output_type": "stream",
          "name": "stdout",
          "text": [
            "Accuracy of Decision Tree: 74.79%\n"
          ]
        }
      ]
    },
    {
      "cell_type": "code",
      "source": [
        "from pyspark.ml.classification import RandomForestClassifier\n",
        "rf = RandomForestClassifier(featuresCol=\"features\", labelCol=\"label\")"
      ],
      "metadata": {
        "id": "0E-9Y-yhruDV"
      },
      "execution_count": null,
      "outputs": []
    },
    {
      "cell_type": "code",
      "source": [
        "from pyspark.ml import Pipeline\n",
        "pipeline = Pipeline(stages=[smoking_indexer, assembler, rf])"
      ],
      "metadata": {
        "id": "dKGt9ZhG_kos"
      },
      "execution_count": null,
      "outputs": []
    },
    {
      "cell_type": "code",
      "source": [
        "model = pipeline.fit(traindata)"
      ],
      "metadata": {
        "id": "ZONj6nsS_mqR"
      },
      "execution_count": null,
      "outputs": []
    },
    {
      "cell_type": "code",
      "source": [
        "predictions = model.transform(test_data)"
      ],
      "metadata": {
        "id": "mbXHWmj3_sXz"
      },
      "execution_count": null,
      "outputs": []
    },
    {
      "cell_type": "code",
      "source": [
        "predictions.select(\"age\", \"height(cm)\", \"weight(kg)\",\"systolic\",\"relaxation\",\"fasting blood sugar\",\"Cholesterol\",\"triglyceride\",\"HDL\",\"LDL\",\"hemoglobin\",\"Urine protein\",\"serum creatinine\",\"AST\",\"ALT\",\"Gtp\",\"dental caries\", \"prediction\").show()"
      ],
      "metadata": {
        "id": "aDGWDKSq_u_Q",
        "colab": {
          "base_uri": "https://localhost:8080/"
        },
        "outputId": "10771e78-d3a6-4613-bc36-807cf9f246ed"
      },
      "execution_count": null,
      "outputs": [
        {
          "output_type": "stream",
          "name": "stdout",
          "text": [
            "+---+----------+----------+--------+----------+-------------------+-----------+------------+---+---+----------+-------------+----------------+---+---+---+-------------+----------+\n",
            "|age|height(cm)|weight(kg)|systolic|relaxation|fasting blood sugar|Cholesterol|triglyceride|HDL|LDL|hemoglobin|Urine protein|serum creatinine|AST|ALT|Gtp|dental caries|prediction|\n",
            "+---+----------+----------+--------+----------+-------------------+-----------+------------+---+---+----------+-------------+----------------+---+---+---+-------------+----------+\n",
            "| 20|       170|        75|     118|        75|                 79|        178|         197| 45| 93|      17.4|            1|             0.8| 27| 31| 53|            0|       1.0|\n",
            "| 45|       160|        55|     150|        88|                 84|        222|         153| 69|122|      13.0|            1|             0.7| 17| 12| 16|            0|       0.0|\n",
            "| 40|       165|        70|     130|        80|                104|        243|         163| 59|150|      15.7|            1|             0.9| 24| 21| 31|            0|       1.0|\n",
            "| 40|       170|        65|     120|        76|                106|        215|          84| 54|145|      15.9|            1|             0.9| 23| 18| 36|            0|       1.0|\n",
            "| 60|       165|        60|     131|        82|                104|        201|         213| 48|110|      15.4|            1|             1.3| 22| 26| 53|            0|       1.0|\n",
            "| 25|       170|        75|     134|        81|                 99|        190|         146| 67| 93|      16.0|            1|             0.9| 37| 39| 92|            1|       1.0|\n",
            "| 30|       181|        85|     127|        83|                 97|        191|         173| 44|112|      15.7|            1|             1.1| 19| 17| 30|            1|       1.0|\n",
            "| 50|       145|        65|     138|        89|                 80|        190|          88| 79| 94|      13.1|            1|             0.7| 31| 25| 17|            0|       0.0|\n",
            "| 40|       170|        80|     127|        87|                 96|        227|         129| 54|148|      15.6|            1|             1.1| 17| 12| 61|            0|       1.0|\n",
            "| 60|       175|        75|     119|        78|                 94|        196|         139| 47|121|      15.2|            1|             1.2| 24| 15| 63|            1|       1.0|\n",
            "| 55|       155|        60|     118|        69|                 96|        226|          92| 69|138|      13.8|            1|             0.8| 18| 11| 17|            0|       0.0|\n",
            "| 40|       165|        60|     120|        80|                 89|        182|         101| 84| 78|      13.2|            1|             0.8| 18| 19| 21|            1|       0.0|\n",
            "| 40|       180|        90|     118|        75|                 99|        225|         184| 42|147|      15.8|            1|             0.9| 23| 28| 44|            0|       1.0|\n",
            "| 40|       165|        55|     105|        60|                 93|        154|          58| 52| 90|      11.5|            1|             0.8| 17| 11| 12|            0|       0.0|\n",
            "| 30|       170|        80|     110|        70|                 91|        224|          79| 73|135|      15.4|            1|             0.9| 23| 35| 26|            1|       0.0|\n",
            "| 35|       175|        75|     127|        66|                 80|        210|         272| 61| 97|      15.8|            1|             1.0| 31| 33| 94|            1|       1.0|\n",
            "| 70|       150|        50|     134|        74|                 96|        205|         104| 57|127|      14.1|            1|             0.9| 32| 32| 14|            0|       0.0|\n",
            "| 40|       165|        55|     113|        63|                 88|        193|          74| 88| 90|      13.3|            1|             0.6| 17| 11| 13|            1|       0.0|\n",
            "| 40|       170|        70|     128|        85|                 98|        216|         248| 51|115|      16.7|            1|             0.7| 26| 34| 65|            1|       1.0|\n",
            "| 40|       150|        50|     106|        63|                 82|        228|          48| 78|140|      12.5|            1|             0.7| 26| 15|  9|            0|       0.0|\n",
            "+---+----------+----------+--------+----------+-------------------+-----------+------------+---+---+----------+-------------+----------------+---+---+---+-------------+----------+\n",
            "only showing top 20 rows\n",
            "\n"
          ]
        }
      ]
    },
    {
      "cell_type": "code",
      "source": [
        "from pyspark.ml.tuning import ParamGridBuilder, CrossValidator\n",
        "from pyspark.ml.evaluation import MulticlassClassificationEvaluator\n",
        "param_grid = ParamGridBuilder() \\\n",
        "    .addGrid(rf.numTrees, [10, 20, 30]) \\\n",
        "    .addGrid(rf.maxDepth, [5, 10, 15]) \\\n",
        "    .build()\n",
        "\n",
        "evaluator = MulticlassClassificationEvaluator(labelCol=\"label\", predictionCol=\"prediction\", metricName=\"accuracy\")\n",
        "\n",
        "crossval = CrossValidator(estimator=pipeline_rf,\n",
        "                          estimatorParamMaps=param_grid,\n",
        "                          evaluator=evaluator,\n",
        "                          numFolds=3)\n",
        "cv_model = crossval.fit(traindata)\n",
        "best_model = cv_model.bestModel\n",
        "predictions_rf = best_model.transform(testdata)\n",
        "\n",
        "rf_accuracy = evaluator.evaluate(predictions_rf)\n",
        "print(f\"Accuracy of Random Forest after hyperparameter tuning: {rf_accuracy * 100:.2f}%\")\n"
      ],
      "metadata": {
        "id": "vC64x9o4AWGT",
        "colab": {
          "base_uri": "https://localhost:8080/"
        },
        "outputId": "dc448254-98aa-4717-b342-0654ba1683a1"
      },
      "execution_count": null,
      "outputs": [
        {
          "output_type": "stream",
          "name": "stdout",
          "text": [
            "Accuracy of Random Forest after hyperparameter tuning: 74.89%\n"
          ]
        }
      ]
    },
    {
      "cell_type": "code",
      "source": [
        "from pyspark.ml.tuning import ParamGridBuilder, CrossValidator\n",
        "from pyspark.ml.evaluation import MulticlassClassificationEvaluator\n",
        "\n",
        "param_grid_gbt = ParamGridBuilder() \\\n",
        "    .addGrid(gbt.maxDepth, [5, 10, 15]) \\\n",
        "    .addGrid(gbt.maxBins, [32, 64]) \\\n",
        "    .addGrid(gbt.maxIter, [10, 20]) \\\n",
        "    .build()\n",
        "\n",
        "evaluator = MulticlassClassificationEvaluator(labelCol=\"label\", predictionCol=\"prediction\", metricName=\"accuracy\")\n",
        "\n",
        "crossval_gbt = CrossValidator(estimator=pipeline_gbt,\n",
        "                              estimatorParamMaps=param_grid_gbt,\n",
        "                              evaluator=evaluator,\n",
        "                              numFolds=3)\n",
        "cv_model_gbt = crossval_gbt.fit(traindata)\n",
        "\n",
        "best_model_gbt = cv_model_gbt.bestModel\n",
        "\n",
        "predictions_gbt = best_model_gbt.transform(testdata)\n",
        "gbt_accuracy = evaluator.evaluate(predictions_gbt)\n",
        "print(f\"Accuracy of GBT after hyperparameter tuning: {gbt_accuracy * 100:.2f}%\")\n"
      ],
      "metadata": {
        "colab": {
          "base_uri": "https://localhost:8080/"
        },
        "id": "FP9sbHGT9TWi",
        "outputId": "1109dd88-1224-46e2-a079-a96d10b15275"
      },
      "execution_count": null,
      "outputs": [
        {
          "output_type": "stream",
          "name": "stdout",
          "text": [
            "Accuracy of GBT after hyperparameter tuning: 76.77%\n"
          ]
        }
      ]
    },
    {
      "cell_type": "code",
      "source": [
        "from pyspark.ml.tuning import ParamGridBuilder, CrossValidator\n",
        "from pyspark.ml.evaluation import MulticlassClassificationEvaluator\n",
        "\n",
        "param_grid_dt = ParamGridBuilder() \\\n",
        "    .addGrid(dt.maxDepth, [5, 10, 15]) \\\n",
        "    .addGrid(dt.maxBins, [32, 64]) \\\n",
        "    .build()\n",
        "\n",
        "evaluator = MulticlassClassificationEvaluator(labelCol=\"label\", predictionCol=\"prediction\", metricName=\"accuracy\")\n",
        "crossval_dt = CrossValidator(estimator=pipeline_dt,\n",
        "                             estimatorParamMaps=param_grid_dt,\n",
        "                             evaluator=evaluator,\n",
        "                             numFolds=3)\n",
        "\n",
        "cv_model_dt = crossval_dt.fit(traindata)\n",
        "best_model_dt = cv_model_dt.bestModel\n",
        "predictions_dt = best_model_dt.transform(testdata)\n",
        "dt_accuracy = evaluator.evaluate(predictions_dt)\n",
        "print(f\"Accuracy of Decision Tree after hyperparameter tuning: {dt_accuracy * 100:.2f}%\")\n"
      ],
      "metadata": {
        "colab": {
          "base_uri": "https://localhost:8080/"
        },
        "id": "meBMPTjH-AI9",
        "outputId": "ba9c714b-02b7-44a9-8410-5a49c6784bbf"
      },
      "execution_count": null,
      "outputs": [
        {
          "output_type": "stream",
          "name": "stdout",
          "text": [
            "Accuracy of Decision Tree after hyperparameter tuning: 74.86%\n"
          ]
        }
      ]
    },
    {
      "cell_type": "code",
      "source": [],
      "metadata": {
        "id": "1ztrFlUU-7zy"
      },
      "execution_count": null,
      "outputs": []
    }
  ]
}